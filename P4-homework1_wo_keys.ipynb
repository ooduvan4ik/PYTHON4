{
 "cells": [
  {
   "cell_type": "code",
   "execution_count": 86,
   "id": "120ef249",
   "metadata": {},
   "outputs": [
    {
     "name": "stdout",
     "output_type": "stream",
     "text": [
      "Please input currency to get X-rate: USD\n",
      "69.767897\n"
     ]
    }
   ],
   "source": [
    "import requests\n",
    "from pprint import pprint\n",
    "\n",
    "url = \"https://currency-exchange.p.rapidapi.com/exchange\"\n",
    "\n",
    "currency=input('Please select currency to get X-rate: ')\n",
    "\n",
    "querystring = {\"from\":[currency],\"to\":\"RUB\",\"q\":\"1.0\"}\n",
    "\n",
    "headers = {\n",
    "    'x-rapidapi-host': \"currency-exchange.p.rapidapi.com\",\n",
    "    'x-rapidapi-key': \"XXXX\"\n",
    "    }\n",
    "\n",
    "response = requests.get(url, headers=headers, params=querystring)#requests.request(\"GET\", url, headers=headers, params=querystring)\n",
    "       \n",
    "j_data = response.json()\n",
    "pprint(j_data)\n"
   ]
  },
  {
   "cell_type": "code",
   "execution_count": 95,
   "id": "8078ce9b",
   "metadata": {},
   "outputs": [
    {
     "name": "stdout",
     "output_type": "stream",
     "text": [
      "{'documentation_url': 'https://docs.github.com/rest', 'message': 'Not Found'}\n"
     ]
    }
   ],
   "source": [
    "import requests\n",
    "from pprint import pprint\n",
    "\n",
    "url = \"https://api.github.com/users/ooduvan4ik/repos/\" #users/ooduvan4ik/repos/\n",
    "my_params={'Authorization': 'XXXX' }\n",
    "headers={'Accept': 'application/vnd.github.v3+json'}\n",
    "\n",
    "repos=requests.get(url, headers=headers, params=my_params)\n",
    "\n",
    "j_data = repos.json()\n",
    "     \n",
    "pprint(j_data)\n"
   ]
  },
  {
   "cell_type": "code",
   "execution_count": null,
   "id": "1ba322a2",
   "metadata": {},
   "outputs": [],
   "source": []
  }
 ],
 "metadata": {
  "kernelspec": {
   "display_name": "Python 3",
   "language": "python",
   "name": "python3"
  },
  "language_info": {
   "codemirror_mode": {
    "name": "ipython",
    "version": 3
   },
   "file_extension": ".py",
   "mimetype": "text/x-python",
   "name": "python",
   "nbconvert_exporter": "python",
   "pygments_lexer": "ipython3",
   "version": "3.8.8"
  }
 },
 "nbformat": 4,
 "nbformat_minor": 5
}
